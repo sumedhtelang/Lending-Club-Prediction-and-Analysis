{
 "cells": [
  {
   "cell_type": "markdown",
   "metadata": {
    "colab_type": "text",
    "id": "sIA4UnbADW1b"
   },
   "source": [
    "Importing All Essential Libraries"
   ]
  },
  {
   "cell_type": "code",
   "execution_count": null,
   "metadata": {
    "colab": {},
    "colab_type": "code",
    "id": "0sJ_QgBhcb66"
   },
   "outputs": [],
   "source": [
    "#Importing the essential libraries\n",
    "import pandas as pd\n",
    "import numpy as np\n",
    "import seaborn as sns\n",
    "import matplotlib.pyplot as plt\n",
    "%matplotlib inline \n",
    "import warnings \n",
    "warnings.filterwarnings(\"ignore\")\n",
    "import pandas.util.testing as tm "
   ]
  },
  {
   "cell_type": "markdown",
   "metadata": {
    "colab_type": "text",
    "id": "BNlaBHrHm8Ee"
   },
   "source": [
    "Since Our Dataset is Very Large. We hosted our dataset on cloud and Google Colab!"
   ]
  },
  {
   "cell_type": "markdown",
   "metadata": {
    "colab_type": "text",
    "id": "Dgu-f81ZnMJg"
   },
   "source": [
    "Import Library For Mounting Drive"
   ]
  },
  {
   "cell_type": "code",
   "execution_count": null,
   "metadata": {
    "colab": {},
    "colab_type": "code",
    "id": "DTR6eJuDXQ_K"
   },
   "outputs": [],
   "source": [
    "from google.colab import drive"
   ]
  },
  {
   "cell_type": "code",
   "execution_count": null,
   "metadata": {
    "colab": {
     "base_uri": "https://localhost:8080/",
     "height": 122
    },
    "colab_type": "code",
    "id": "JoBAlECKXWXk",
    "outputId": "92bc6dff-1788-480f-b72d-f3a694453fe3"
   },
   "outputs": [
    {
     "name": "stdout",
     "output_type": "stream",
     "text": [
      "Go to this URL in a browser: https://accounts.google.com/o/oauth2/auth?client_id=947318989803-6bn6qk8qdgf4n4g3pfee6491hc0brc4i.apps.googleusercontent.com&redirect_uri=urn%3aietf%3awg%3aoauth%3a2.0%3aoob&response_type=code&scope=email%20https%3a%2f%2fwww.googleapis.com%2fauth%2fdocs.test%20https%3a%2f%2fwww.googleapis.com%2fauth%2fdrive%20https%3a%2f%2fwww.googleapis.com%2fauth%2fdrive.photos.readonly%20https%3a%2f%2fwww.googleapis.com%2fauth%2fpeopleapi.readonly\n",
      "\n",
      "Enter your authorization code:\n",
      "··········\n",
      "Mounted at /content/drive/\n"
     ]
    }
   ],
   "source": [
    "drive.mount('/content/drive/')"
   ]
  },
  {
   "cell_type": "code",
   "execution_count": null,
   "metadata": {
    "colab": {},
    "colab_type": "code",
    "id": "MyeEqSsXXYXE"
   },
   "outputs": [],
   "source": [
    "root_path = 'gdrive/My Drive/'"
   ]
  },
  {
   "cell_type": "markdown",
   "metadata": {
    "colab_type": "text",
    "id": "kXQsixsUnSMj"
   },
   "source": [
    "Reading Dataset"
   ]
  },
  {
   "cell_type": "code",
   "execution_count": null,
   "metadata": {
    "colab": {},
    "colab_type": "code",
    "id": "lmt5R3XZXkU7"
   },
   "outputs": [],
   "source": [
    "loan_df = pd.read_csv('/content/drive/My Drive/loan.csv')"
   ]
  },
  {
   "cell_type": "markdown",
   "metadata": {
    "colab_type": "text",
    "id": "5a9O5osvnVNK"
   },
   "source": [
    "**Data Cleaning**"
   ]
  },
  {
   "cell_type": "markdown",
   "metadata": {
    "colab_type": "text",
    "id": "a_GKSZUYnbqI"
   },
   "source": [
    "Checking and Removing Columns With More Than 40% null values"
   ]
  },
  {
   "cell_type": "code",
   "execution_count": null,
   "metadata": {
    "colab": {
     "base_uri": "https://localhost:8080/",
     "height": 816
    },
    "colab_type": "code",
    "id": "5I29y4HXZNhg",
    "outputId": "8cbd011b-f757-4423-c8b7-f7a722dd7c2e"
   },
   "outputs": [
    {
     "data": {
      "text/plain": [
       "id                                            1.000000\n",
       "member_id                                     1.000000\n",
       "url                                           1.000000\n",
       "orig_projected_additional_accrued_interest    0.996273\n",
       "hardship_start_date                           0.995305\n",
       "hardship_end_date                             0.995305\n",
       "payment_plan_start_date                       0.995305\n",
       "hardship_length                               0.995305\n",
       "hardship_dpd                                  0.995305\n",
       "hardship_loan_status                          0.995305\n",
       "hardship_payoff_balance_amount                0.995305\n",
       "deferral_term                                 0.995305\n",
       "hardship_last_payment_amount                  0.995305\n",
       "hardship_status                               0.995305\n",
       "hardship_reason                               0.995305\n",
       "hardship_type                                 0.995305\n",
       "hardship_amount                               0.995305\n",
       "settlement_percentage                         0.985378\n",
       "settlement_term                               0.985378\n",
       "settlement_status                             0.985378\n",
       "debt_settlement_flag_date                     0.985378\n",
       "settlement_amount                             0.985378\n",
       "settlement_date                               0.985378\n",
       "sec_app_mths_since_last_major_derog           0.984101\n",
       "sec_app_revol_util                            0.953030\n",
       "revol_bal_joint                               0.952218\n",
       "sec_app_mort_acc                              0.952217\n",
       "sec_app_collections_12_mths_ex_med            0.952217\n",
       "sec_app_chargeoff_within_12_mths              0.952217\n",
       "sec_app_num_rev_accts                         0.952217\n",
       "sec_app_open_act_il                           0.952217\n",
       "sec_app_open_acc                              0.952217\n",
       "sec_app_inq_last_6mths                        0.952217\n",
       "sec_app_earliest_cr_line                      0.952217\n",
       "verification_status_joint                     0.948807\n",
       "dti_joint                                     0.946606\n",
       "annual_inc_joint                              0.946604\n",
       "desc                                          0.944235\n",
       "mths_since_last_record                        0.841128\n",
       "mths_since_recent_bc_dlq                      0.770112\n",
       "mths_since_last_major_derog                   0.743096\n",
       "mths_since_recent_revol_delinq                0.672504\n",
       "next_pymnt_d                                  0.576647\n",
       "mths_since_last_delinq                        0.512460\n",
       "il_util                                       0.472803\n",
       "mths_since_rcnt_il                            0.402502\n",
       "dtype: float64"
      ]
     },
     "execution_count": 10,
     "metadata": {
      "tags": []
     },
     "output_type": "execute_result"
    }
   ],
   "source": [
    "check_null = loan_df.isnull().sum(axis=0).sort_values(ascending=False)/float(len(loan_df))\n",
    "check_null[check_null>0.4]"
   ]
  },
  {
   "cell_type": "code",
   "execution_count": null,
   "metadata": {
    "colab": {},
    "colab_type": "code",
    "id": "h92wQUbDV-vz"
   },
   "outputs": [],
   "source": [
    "remove = ['id', 'member_id', 'url', 'dti_joint','verification_status_joint','annual_inc_joint','il_util','mths_since_rcnt_il',\n",
    "          'total_cu_tl','all_util','open_il_12m','total_bal_il','open_il_24m','inq_last_12m',\n",
    "          'inq_fi','open_acc_6m','open_rv_12m','max_bal_bc','open_rv_24m','mths_since_last_record',\n",
    "          'mths_since_recent_bc_dlq','mths_since_last_major_derog','mths_since_recent_revol_delinq','desc',\n",
    "         'mths_since_last_delinq']"
   ]
  },
  {
   "cell_type": "code",
   "execution_count": null,
   "metadata": {
    "colab": {},
    "colab_type": "code",
    "id": "ArH36igxV_pI"
   },
   "outputs": [],
   "source": [
    "loan_df = loan_df.drop(remove, axis=1)"
   ]
  },
  {
   "cell_type": "code",
   "execution_count": null,
   "metadata": {
    "colab": {},
    "colab_type": "code",
    "id": "Yn7205sJWWpP"
   },
   "outputs": [],
   "source": [
    "loan_df['annual_inc'] = loan_df['annual_inc']/1000\n",
    "loan_df['loan_amnt'] = loan_df['loan_amnt']/1000"
   ]
  },
  {
   "cell_type": "markdown",
   "metadata": {
    "colab_type": "text",
    "id": "GXQZhXXtnnIO"
   },
   "source": [
    "Removing Empty Rows"
   ]
  },
  {
   "cell_type": "code",
   "execution_count": null,
   "metadata": {
    "colab": {},
    "colab_type": "code",
    "id": "pNIGIL_PWiQr"
   },
   "outputs": [],
   "source": [
    "loan_df = loan_df[:-2]"
   ]
  },
  {
   "cell_type": "markdown",
   "metadata": {
    "colab_type": "text",
    "id": "s3SP8ESVnut9"
   },
   "source": [
    "Filling Null Values With 0"
   ]
  },
  {
   "cell_type": "code",
   "execution_count": null,
   "metadata": {
    "colab": {
     "base_uri": "https://localhost:8080/",
     "height": 34
    },
    "colab_type": "code",
    "id": "rJLM-C55WsWc",
    "outputId": "d5a59190-2bb8-47b4-aa94-5697372f81c2"
   },
   "outputs": [
    {
     "data": {
      "text/plain": [
       "Series([], dtype: int64)"
      ]
     },
     "execution_count": 15,
     "metadata": {
      "tags": []
     },
     "output_type": "execute_result"
    }
   ],
   "source": [
    "loan_df = loan_df.fillna(0)\n",
    "null_count = loan_df.isnull().sum()\n",
    "null_count[null_count>0]"
   ]
  },
  {
   "cell_type": "markdown",
   "metadata": {
    "colab_type": "text",
    "id": "cv3Bj5xon1bk"
   },
   "source": [
    "Converting String To Integer By Removing Symbols"
   ]
  },
  {
   "cell_type": "code",
   "execution_count": null,
   "metadata": {
    "colab": {},
    "colab_type": "code",
    "id": "GBsDqQBAXFav"
   },
   "outputs": [],
   "source": [
    "loan_df['term'] = loan_df['term'].str.replace('months','')\n",
    "loan_df['emp_length'] = loan_df['emp_length'].str.replace('+','')\n",
    "loan_df['emp_length'] = loan_df['emp_length'].str.replace('<','')\n",
    "loan_df['emp_length'] = loan_df['emp_length'].str.replace('years','')\n",
    "loan_df['emp_length'] = loan_df['emp_length'].str.replace('year','')"
   ]
  },
  {
   "cell_type": "code",
   "execution_count": null,
   "metadata": {
    "colab": {},
    "colab_type": "code",
    "id": "DQiEKoKQXLJt"
   },
   "outputs": [],
   "source": [
    "loan_df['emp_length'] = pd.to_numeric(loan_df['emp_length'])\n",
    "loan_df['emp_length'] = loan_df.emp_length.fillna(0)\n",
    "loan_df['term'] = pd.to_numeric(loan_df['term'])"
   ]
  },
  {
   "cell_type": "markdown",
   "metadata": {
    "colab_type": "text",
    "id": "QYKOGGPcoCYW"
   },
   "source": [
    "**Data Analysis For Selecting Columns For Prediction of Charged Off Loans**"
   ]
  },
  {
   "cell_type": "markdown",
   "metadata": {
    "colab_type": "text",
    "id": "M_u3e7eHoLHQ"
   },
   "source": [
    "Bar Graph To Determine Loans Distributed to Individuals Length Of Employement"
   ]
  },
  {
   "cell_type": "code",
   "execution_count": null,
   "metadata": {
    "colab": {
     "base_uri": "https://localhost:8080/",
     "height": 332
    },
    "colab_type": "code",
    "id": "RmiyztzTXZ20",
    "outputId": "6bf5e2b2-56c7-4257-8ebc-27bf58c033ff"
   },
   "outputs": [
    {
     "data": {
      "text/plain": [
       "Text(0.5, 0, 'Length of Employment')"
      ]
     },
     "execution_count": 18,
     "metadata": {
      "tags": []
     },
     "output_type": "execute_result"
    },
    {
     "data": {
      "image/png": "[encoded data removed]",
      "text/plain": [
       "<Figure size 432x288 with 1 Axes>"
      ]
     },
     "metadata": {
      "tags": []
     },
     "output_type": "display_data"
    }
   ],
   "source": [
    "#More loans were disbursed to individuals who have worked 10 or more years.\n",
    "sns.set(style=\"darkgrid\")\n",
    "ax = sns.countplot(x=\"emp_length\", data=loan_df, color=\"darkmagenta\")\n",
    "plt.rcParams['figure.figsize']=(5,4)\n",
    "plt.xticks(rotation=90)\n",
    "ax.set_title('Length of Employment', fontsize=12)\n",
    "plt.xlabel('Length of Employment', fontsize=12)"
   ]
  },
  {
   "cell_type": "markdown",
   "metadata": {
    "colab_type": "text",
    "id": "K9r6YsOQoeQX"
   },
   "source": [
    "Percent Of Loan Distributed Among Individuals Length Of Employement"
   ]
  },
  {
   "cell_type": "code",
   "execution_count": null,
   "metadata": {
    "colab": {
     "base_uri": "https://localhost:8080/",
     "height": 238
    },
    "colab_type": "code",
    "id": "-a9gyYAnXeb6",
    "outputId": "f67fad8b-74b0-4991-cae7-250391138ea9"
   },
   "outputs": [
    {
     "data": {
      "text/plain": [
       "emp_length\n",
       "10.0    33.087816\n",
       "1.0     14.968642\n",
       "2.0      9.009602\n",
       "3.0      7.995520\n",
       "0.0      6.498350\n",
       "5.0      6.179506\n",
       "4.0      6.042688\n",
       "6.0      4.539724\n",
       "7.0      4.100340\n",
       "8.0      4.065793\n",
       "9.0      3.512018\n",
       "dtype: float64"
      ]
     },
     "execution_count": 19,
     "metadata": {
      "tags": []
     },
     "output_type": "execute_result"
    }
   ],
   "source": [
    "emp_length_grouped = loan_df.groupby('emp_length').size().sort_values(ascending=False)/len(loan_df) * 100\n",
    "emp_length_grouped"
   ]
  },
  {
   "cell_type": "code",
   "execution_count": null,
   "metadata": {
    "colab": {},
    "colab_type": "code",
    "id": "yzfalWSRXm_F"
   },
   "outputs": [],
   "source": [
    "loan_df['dti'] = loan_df['dti'].replace(9999, np.NaN)"
   ]
  },
  {
   "cell_type": "code",
   "execution_count": null,
   "metadata": {
    "colab": {},
    "colab_type": "code",
    "id": "0p19zN2gXvB-"
   },
   "outputs": [],
   "source": [
    "loan_df['dti'].fillna((loan_df['dti'].mean()), inplace=True)"
   ]
  },
  {
   "cell_type": "markdown",
   "metadata": {
    "colab_type": "text",
    "id": "YVQAjicXosHh"
   },
   "source": [
    "Histogram: - Debt to Income Ratio"
   ]
  },
  {
   "cell_type": "code",
   "execution_count": null,
   "metadata": {
    "colab": {
     "base_uri": "https://localhost:8080/",
     "height": 318
    },
    "colab_type": "code",
    "id": "80yBq7GpXzZd",
    "outputId": "48061755-ef84-4a68-ac7b-507dbf0d0fcc"
   },
   "outputs": [
    {
     "data": {
      "text/plain": [
       "Text(0.5, 1.0, 'Debt to Income Ratio')"
      ]
     },
     "execution_count": 22,
     "metadata": {
      "tags": []
     },
     "output_type": "execute_result"
    },
    {
     "data": {
      "image/png": "[encoded data removed]",
      "text/plain": [
       "<Figure size 432x288 with 1 Axes>"
      ]
     },
     "metadata": {
      "tags": []
     },
     "output_type": "display_data"
    }
   ],
   "source": [
    "sns.set(style=\"darkgrid\")\n",
    "plt.rcParams['figure.figsize']=(6,4)\n",
    "ax = sns.distplot(loan_df['dti'], bins=20, kde=False, hist_kws={'range':(0,40)}, color=\"blue\")\n",
    "ax.set_title('Debt to Income Ratio', fontsize=12)"
   ]
  },
  {
   "cell_type": "markdown",
   "metadata": {
    "colab_type": "text",
    "id": "qHcowKerowvL"
   },
   "source": [
    "Histogram: - Annual Income Of Individuals"
   ]
  },
  {
   "cell_type": "code",
   "execution_count": null,
   "metadata": {
    "colab": {
     "base_uri": "https://localhost:8080/",
     "height": 318
    },
    "colab_type": "code",
    "id": "Ht0QxcbFX18k",
    "outputId": "2fc3d20e-762d-4761-f2bf-917032e6454f"
   },
   "outputs": [
    {
     "data": {
      "text/plain": [
       "Text(0.5, 1.0, \"Annual Income in '000s\")"
      ]
     },
     "execution_count": 23,
     "metadata": {
      "tags": []
     },
     "output_type": "execute_result"
    },
    {
     "data": {
      "image/png": "[encoded data removed]",
      "text/plain": [
       "<Figure size 432x288 with 1 Axes>"
      ]
     },
     "metadata": {
      "tags": []
     },
     "output_type": "display_data"
    }
   ],
   "source": [
    "sns.set(style=\"darkgrid\")\n",
    "plt.rcParams['figure.figsize']=(6,4)\n",
    "ax = sns.distplot(loan_df['annual_inc'], bins=20, kde=False, hist_kws={'range':(0,300)}, color=\"dodgerblue\")\n",
    "ax.set_title('Annual Income in \\'000s', fontsize=12)"
   ]
  },
  {
   "cell_type": "markdown",
   "metadata": {
    "colab_type": "text",
    "id": "IATkzXfYo1mW"
   },
   "source": [
    "Bar Graph: - Purpose for which individuals took loan"
   ]
  },
  {
   "cell_type": "code",
   "execution_count": null,
   "metadata": {
    "colab": {
     "base_uri": "https://localhost:8080/",
     "height": 419
    },
    "colab_type": "code",
    "id": "E9E2jID4X7vw",
    "outputId": "b394add3-098b-440c-c69f-76cc1914c08d"
   },
   "outputs": [
    {
     "data": {
      "text/plain": [
       "Text(0.5, 1.0, 'Purpose of Loan')"
      ]
     },
     "execution_count": 24,
     "metadata": {
      "tags": []
     },
     "output_type": "execute_result"
    },
    {
     "data": {
      "image/png": "[encoded data removed]",
      "text/plain": [
       "<Figure size 432x288 with 1 Axes>"
      ]
     },
     "metadata": {
      "tags": []
     },
     "output_type": "display_data"
    }
   ],
   "source": [
    "sns.set(style=\"darkgrid\")\n",
    "ax = sns.countplot(x=\"purpose\", data=loan_df, color=\"turquoise\")\n",
    "plt.rcParams['figure.figsize']=(6,4)\n",
    "plt.xticks(rotation=90)\n",
    "ax.set_title('Purpose of Loan', fontsize=12)"
   ]
  },
  {
   "cell_type": "markdown",
   "metadata": {
    "colab_type": "text",
    "id": "RyuiR-3Jo9m6"
   },
   "source": [
    "Status of all the loans distributed by lending club."
   ]
  },
  {
   "cell_type": "code",
   "execution_count": null,
   "metadata": {
    "colab": {
     "base_uri": "https://localhost:8080/",
     "height": 204
    },
    "colab_type": "code",
    "id": "GdlPygY3YCqk",
    "outputId": "d671d7ab-aa10-44cc-db4f-faff39c588a4"
   },
   "outputs": [
    {
     "data": {
      "text/plain": [
       "loan_status\n",
       "Fully Paid                                             46.090488\n",
       "Current                                                40.682392\n",
       "Charged Off                                            11.574244\n",
       "Late (31-120 days)                                      0.968608\n",
       "In Grace Period                                         0.395990\n",
       "Late (16-30 days)                                       0.165305\n",
       "Does not meet the credit policy. Status:Fully Paid      0.087939\n",
       "Does not meet the credit policy. Status:Charged Off     0.033663\n",
       "Default                                                 0.001371\n",
       "dtype: float64"
      ]
     },
     "execution_count": 25,
     "metadata": {
      "tags": []
     },
     "output_type": "execute_result"
    }
   ],
   "source": [
    "loan_status_grouped = loan_df.groupby('loan_status').size().sort_values(ascending=False)/len(loan_df) * 100\n",
    "loan_status_grouped"
   ]
  },
  {
   "cell_type": "code",
   "execution_count": null,
   "metadata": {
    "colab": {},
    "colab_type": "code",
    "id": "aQg20mu2YKy-"
   },
   "outputs": [],
   "source": [
    "#Looking at loan status that are Fully Paid and Charged Off \n",
    "loan_df = loan_df[(loan_df[\"loan_status\"] == \"Fully Paid\") |\n",
    "                            (loan_df[\"loan_status\"] == \"Charged Off\")]\n",
    "\n",
    "di = {\"Fully Paid\":0, \"Charged Off\":1}   #converting target variable to boolean\n",
    "loan_df= loan_df.replace({\"loan_status\": di})"
   ]
  },
  {
   "cell_type": "markdown",
   "metadata": {
    "colab_type": "text",
    "id": "Iu5mIfTPYiBm"
   },
   "source": [
    "\n",
    "Features needed to be converted to boolean. Removed objects that have more than 15 unique variables. Removed columns that constitute <10% of total data. Drop correlated features. Further removed columns that do not add value to the models."
   ]
  },
  {
   "cell_type": "code",
   "execution_count": null,
   "metadata": {
    "colab": {},
    "colab_type": "code",
    "id": "fR4Ys3b1YUSG"
   },
   "outputs": [],
   "source": [
    "loan_df['term'] = np.where(loan_df['term']==36, 1, 0)\n",
    "loan_df['delinq_2yrs'] = np.where(loan_df['delinq_2yrs']>0, 1, 0)\n",
    "loan_df['inq_last_6mths'] = np.where(loan_df['inq_last_6mths']>0, 1, 0)"
   ]
  },
  {
   "cell_type": "code",
   "execution_count": null,
   "metadata": {
    "colab": {
     "base_uri": "https://localhost:8080/",
     "height": 1000
    },
    "colab_type": "code",
    "id": "h7K_UeeDYrHx",
    "outputId": "68d14774-c176-407d-83e1-ea46761432fa"
   },
   "outputs": [
    {
     "name": "stdout",
     "output_type": "stream",
     "text": [
      "grade\n",
      "7\n",
      "sub_grade\n",
      "35\n",
      "emp_title\n",
      "371436\n",
      "home_ownership\n",
      "6\n",
      "verification_status\n",
      "3\n",
      "issue_d\n",
      "139\n",
      "pymnt_plan\n",
      "1\n",
      "purpose\n",
      "14\n",
      "title\n",
      "61679\n",
      "zip_code\n",
      "944\n",
      "addr_state\n",
      "51\n",
      "earliest_cr_line\n",
      "738\n",
      "initial_list_status\n",
      "2\n",
      "last_pymnt_d\n",
      "135\n",
      "next_pymnt_d\n",
      "1\n",
      "last_credit_pull_d\n",
      "140\n",
      "application_type\n",
      "2\n",
      "sec_app_earliest_cr_line\n",
      "561\n",
      "hardship_flag\n",
      "2\n",
      "hardship_type\n",
      "2\n",
      "hardship_reason\n",
      "10\n",
      "hardship_status\n",
      "4\n",
      "hardship_start_date\n",
      "27\n",
      "hardship_end_date\n",
      "25\n",
      "payment_plan_start_date\n",
      "26\n",
      "hardship_loan_status\n",
      "6\n",
      "disbursement_method\n",
      "2\n",
      "debt_settlement_flag\n",
      "2\n",
      "debt_settlement_flag_date\n",
      "83\n",
      "settlement_status\n",
      "4\n",
      "settlement_date\n",
      "89\n"
     ]
    }
   ],
   "source": [
    "categorical = loan_df.select_dtypes(include=['object'])\n",
    "for i in categorical:\n",
    "    column = categorical[i]\n",
    "    print(i)\n",
    "    print(column.nunique())"
   ]
  },
  {
   "cell_type": "code",
   "execution_count": null,
   "metadata": {
    "colab": {
     "base_uri": "https://localhost:8080/",
     "height": 1000
    },
    "colab_type": "code",
    "id": "fbk7Ft3eYtvL",
    "outputId": "e450646d-961e-4854-d493-597b6f1dd077"
   },
   "outputs": [
    {
     "name": "stdout",
     "output_type": "stream",
     "text": [
      "1    988754\n",
      "0    314853\n",
      "Name: term, dtype: int64\n",
      "\n",
      "Source Verified    503726\n",
      "Verified           407676\n",
      "Not Verified       392205\n",
      "Name: verification_status, dtype: int64\n",
      "\n",
      "0    1041952\n",
      "1     261655\n",
      "Name: loan_status, dtype: int64\n",
      "\n",
      "n    1303607\n",
      "Name: pymnt_plan, dtype: int64\n",
      "\n",
      "0    1052490\n",
      "1     251117\n",
      "Name: delinq_2yrs, dtype: int64\n",
      "\n",
      "0    744275\n",
      "1    559332\n",
      "Name: inq_last_6mths, dtype: int64\n",
      "\n",
      "w    751214\n",
      "f    552393\n",
      "Name: initial_list_status, dtype: int64\n",
      "\n",
      "0.0    1303607\n",
      "Name: out_prncp, dtype: int64\n",
      "\n",
      "0.0    1303607\n",
      "Name: out_prncp_inv, dtype: int64\n",
      "\n",
      "0    1303607\n",
      "Name: next_pymnt_d, dtype: int64\n",
      "\n",
      "1    1303607\n",
      "Name: policy_code, dtype: int64\n",
      "\n",
      "Individual    1280370\n",
      "Joint App       23237\n",
      "Name: application_type, dtype: int64\n",
      "\n",
      "N    1303606\n",
      "Y          1\n",
      "Name: hardship_flag, dtype: int64\n",
      "\n",
      "0                                  1298272\n",
      "INTEREST ONLY-3 MONTHS DEFERRAL       5335\n",
      "Name: hardship_type, dtype: int64\n",
      "\n",
      "0.0    1298272\n",
      "3.0       5335\n",
      "Name: deferral_term, dtype: int64\n",
      "\n",
      "0.0    1298272\n",
      "3.0       5335\n",
      "Name: hardship_length, dtype: int64\n",
      "\n",
      "Cash         1297794\n",
      "DirectPay       5813\n",
      "Name: disbursement_method, dtype: int64\n",
      "\n",
      "N    1271618\n",
      "Y      31989\n",
      "Name: debt_settlement_flag, dtype: int64\n",
      "\n"
     ]
    }
   ],
   "source": [
    "for col in loan_df.columns:\n",
    "    if (len(loan_df[col].unique()) < 4):\n",
    "        print(loan_df[col].value_counts())\n",
    "        print()"
   ]
  },
  {
   "cell_type": "markdown",
   "metadata": {
    "colab_type": "text",
    "id": "11uJDeuOpQSW"
   },
   "source": [
    "Dropping the columns that are >80% correlated"
   ]
  },
  {
   "cell_type": "code",
   "execution_count": null,
   "metadata": {
    "colab": {},
    "colab_type": "code",
    "id": "707LTsF4Y29n"
   },
   "outputs": [],
   "source": [
    "remove3 = ['grade','emp_title','title','zip_code','addr_state','earliest_cr_line','last_pymnt_d',\n",
    "          'last_credit_pull_d','policy_code','application_type','pymnt_plan','issue_d','out_prncp','next_pymnt_d',\n",
    "          'out_prncp_inv']"
   ]
  },
  {
   "cell_type": "code",
   "execution_count": null,
   "metadata": {
    "colab": {},
    "colab_type": "code",
    "id": "YthnaWaFY_4b"
   },
   "outputs": [],
   "source": [
    "df = loan_df.drop(remove3, axis=1)"
   ]
  },
  {
   "cell_type": "markdown",
   "metadata": {
    "colab_type": "text",
    "id": "3PPRp3N-pYto"
   },
   "source": [
    "Removing Column Who Do Not Add Value For Prediction Models"
   ]
  },
  {
   "cell_type": "code",
   "execution_count": null,
   "metadata": {
    "colab": {},
    "colab_type": "code",
    "id": "FMOxNfSlZC_J"
   },
   "outputs": [],
   "source": [
    "#Further removal of columns that do not add value.\n",
    "remove4 = ['funded_amnt','funded_amnt_inv','total_pymnt_inv','total_rec_prncp','total_rec_int',\n",
    "          'total_rec_late_fee','recoveries','collection_recovery_fee','last_pymnt_amnt','recoveries',\n",
    "          'collection_recovery_fee','collections_12_mths_ex_med','total_rev_hi_lim',\n",
    "          'acc_open_past_24mths','bc_open_to_buy','bc_util','mo_sin_old_il_acct','mo_sin_old_rev_tl_op',\n",
    "          'mo_sin_rcnt_rev_tl_op','mo_sin_rcnt_tl','num_accts_ever_120_pd','num_actv_bc_tl','num_actv_rev_tl',\n",
    "       'num_bc_sats', 'num_bc_tl', 'num_il_tl', 'num_op_rev_tl',\n",
    "       'num_rev_accts', 'num_rev_tl_bal_gt_0', 'num_sats', 'num_tl_120dpd_2m',\n",
    "       'num_tl_30dpd', 'num_tl_90g_dpd_24m', 'num_tl_op_past_12m',\n",
    "       'pct_tl_nvr_dlq', 'percent_bc_gt_75','tax_liens', 'tot_hi_cred_lim', 'total_bal_ex_mort', 'total_bc_limit']"
   ]
  },
  {
   "cell_type": "code",
   "execution_count": null,
   "metadata": {
    "colab": {},
    "colab_type": "code",
    "id": "ocFcNa6FZLEI"
   },
   "outputs": [],
   "source": [
    "df = df.drop(remove4, axis=1)"
   ]
  },
  {
   "cell_type": "markdown",
   "metadata": {
    "colab_type": "text",
    "id": "KUfMqi-zpex6"
   },
   "source": [
    "Correlation Matrix between remaining variables"
   ]
  },
  {
   "cell_type": "code",
   "execution_count": null,
   "metadata": {
    "colab": {
     "base_uri": "https://localhost:8080/",
     "height": 517
    },
    "colab_type": "code",
    "id": "_fPi2433ZNHA",
    "outputId": "b300d430-6a52-41ad-b22c-9c4f0ba33057"
   },
   "outputs": [
    {
     "data": {
      "text/plain": [
       "<matplotlib.axes._subplots.AxesSubplot at 0x7fd82da89940>"
      ]
     },
     "execution_count": 34,
     "metadata": {
      "tags": []
     },
     "output_type": "execute_result"
    },
    {
     "data": {
      "image/png": "[encoded data removed]",
      "text/plain": [
       "<Figure size 432x288 with 2 Axes>"
      ]
     },
     "metadata": {
      "tags": []
     },
     "output_type": "display_data"
    }
   ],
   "source": [
    "#Creating a correlation matrix.\n",
    "corrmat = df.corr()\n",
    "#Find correlation between the different variables.\n",
    "f, ax = plt.subplots()\n",
    "sns.heatmap(corrmat,square=True)"
   ]
  },
  {
   "cell_type": "code",
   "execution_count": null,
   "metadata": {
    "colab": {
     "base_uri": "https://localhost:8080/",
     "height": 425
    },
    "colab_type": "code",
    "id": "QuUHTy8JZSmX",
    "outputId": "14a2801e-e47b-4d9d-b027-fc6a8ae45c43"
   },
   "outputs": [
    {
     "data": {
      "text/plain": [
       "Index(['loan_amnt', 'term', 'int_rate', 'installment', 'sub_grade',\n",
       "       'emp_length', 'home_ownership', 'annual_inc', 'verification_status',\n",
       "       'loan_status', 'purpose', 'dti', 'delinq_2yrs', 'inq_last_6mths',\n",
       "       'open_acc', 'pub_rec', 'revol_bal', 'revol_util', 'total_acc',\n",
       "       'initial_list_status', 'total_pymnt', 'acc_now_delinq', 'tot_coll_amt',\n",
       "       'tot_cur_bal', 'open_act_il', 'avg_cur_bal', 'chargeoff_within_12_mths',\n",
       "       'delinq_amnt', 'mort_acc', 'mths_since_recent_bc',\n",
       "       'mths_since_recent_inq', 'pub_rec_bankruptcies',\n",
       "       'total_il_high_credit_limit', 'revol_bal_joint',\n",
       "       'sec_app_earliest_cr_line', 'sec_app_inq_last_6mths',\n",
       "       'sec_app_mort_acc', 'sec_app_open_acc', 'sec_app_revol_util',\n",
       "       'sec_app_open_act_il', 'sec_app_num_rev_accts',\n",
       "       'sec_app_chargeoff_within_12_mths',\n",
       "       'sec_app_collections_12_mths_ex_med',\n",
       "       'sec_app_mths_since_last_major_derog', 'hardship_flag', 'hardship_type',\n",
       "       'hardship_reason', 'hardship_status', 'deferral_term',\n",
       "       'hardship_amount', 'hardship_start_date', 'hardship_end_date',\n",
       "       'payment_plan_start_date', 'hardship_length', 'hardship_dpd',\n",
       "       'hardship_loan_status', 'orig_projected_additional_accrued_interest',\n",
       "       'hardship_payoff_balance_amount', 'hardship_last_payment_amount',\n",
       "       'disbursement_method', 'debt_settlement_flag',\n",
       "       'debt_settlement_flag_date', 'settlement_status', 'settlement_date',\n",
       "       'settlement_amount', 'settlement_percentage', 'settlement_term'],\n",
       "      dtype='object')"
      ]
     },
     "execution_count": 35,
     "metadata": {
      "tags": []
     },
     "output_type": "execute_result"
    }
   ],
   "source": [
    "df.columns.unique()"
   ]
  },
  {
   "cell_type": "markdown",
   "metadata": {
    "colab_type": "text",
    "id": "VM6EvJhwprm_"
   },
   "source": [
    "Removing all remaining irrelevant columns"
   ]
  },
  {
   "cell_type": "code",
   "execution_count": null,
   "metadata": {
    "colab": {},
    "colab_type": "code",
    "id": "Xz0AJn-qZWEI"
   },
   "outputs": [],
   "source": [
    "remove5 = ['total_il_high_credit_limit','installment','revol_util','revol_bal','pub_rec',\n",
    "           'delinq_amnt','avg_cur_bal','open_acc','total_acc','mort_acc','mths_since_recent_bc', 'chargeoff_within_12_mths',\n",
    "           'revol_bal_joint',\n",
    "            'sec_app_earliest_cr_line', 'sec_app_inq_last_6mths',\n",
    "            'sec_app_mort_acc', 'sec_app_open_acc', 'sec_app_revol_util',\n",
    "            'sec_app_open_act_il', 'sec_app_num_rev_accts',\n",
    "            'sec_app_chargeoff_within_12_mths',\n",
    "            'sec_app_collections_12_mths_ex_med',\n",
    "            'sec_app_mths_since_last_major_derog', 'hardship_flag', 'hardship_type',\n",
    "            'hardship_reason', 'hardship_status', 'deferral_term',\n",
    "            'hardship_amount', 'hardship_start_date', 'hardship_end_date',\n",
    "            'payment_plan_start_date', 'hardship_length', 'hardship_dpd',\n",
    "            'hardship_loan_status', 'orig_projected_additional_accrued_interest',\n",
    "            'hardship_payoff_balance_amount', 'hardship_last_payment_amount',\n",
    "            'disbursement_method', 'debt_settlement_flag',\n",
    "            'debt_settlement_flag_date', 'settlement_status', 'settlement_date',\n",
    "            'settlement_amount', 'settlement_percentage', 'settlement_term']\n",
    "df = df.drop(remove5, axis=1)"
   ]
  },
  {
   "cell_type": "markdown",
   "metadata": {
    "colab_type": "text",
    "id": "1cLGDnrfpzAN"
   },
   "source": [
    "Final Correlation Matrix"
   ]
  },
  {
   "cell_type": "code",
   "execution_count": null,
   "metadata": {
    "colab": {
     "base_uri": "https://localhost:8080/",
     "height": 405
    },
    "colab_type": "code",
    "id": "NmzgR8tdaAnw",
    "outputId": "efdc92f7-8bc5-4f32-f9f3-e16bbb6803b7"
   },
   "outputs": [
    {
     "data": {
      "text/plain": [
       "<matplotlib.axes._subplots.AxesSubplot at 0x7fd8283cd588>"
      ]
     },
     "execution_count": 37,
     "metadata": {
      "tags": []
     },
     "output_type": "execute_result"
    },
    {
     "data": {
      "image/png": "[encoded data removed]",
      "text/plain": [
       "<Figure size 432x288 with 2 Axes>"
      ]
     },
     "metadata": {
      "tags": []
     },
     "output_type": "display_data"
    }
   ],
   "source": [
    "#Creating a correlation matrix.\n",
    "corrmat = df.corr()\n",
    "#Find correlation between the different variables.\n",
    "f, ax = plt.subplots()\n",
    "sns.heatmap(corrmat,square=True)"
   ]
  },
  {
   "cell_type": "code",
   "execution_count": null,
   "metadata": {
    "colab": {},
    "colab_type": "code",
    "id": "U7dsZFFbaPrv"
   },
   "outputs": [],
   "source": [
    "df = pd.concat([df.drop('home_ownership', axis=1), pd.get_dummies(df['home_ownership'])], axis=1)\n",
    "df = pd.concat([df.drop('initial_list_status', axis=1), pd.get_dummies(df['initial_list_status'])], axis=1)\n",
    "df = pd.concat([df.drop('purpose', axis=1), pd.get_dummies(df['purpose'])], axis=1)\n",
    "df = pd.concat([df.drop('sub_grade', axis=1), pd.get_dummies(df['sub_grade'])], axis=1)\n",
    "df = pd.concat([df.drop('verification_status', axis=1), pd.get_dummies(df['verification_status'])], axis=1)"
   ]
  },
  {
   "cell_type": "code",
   "execution_count": null,
   "metadata": {
    "colab": {},
    "colab_type": "code",
    "id": "tj3I7JItaSol"
   },
   "outputs": [],
   "source": [
    "X = df.drop('loan_status', 1)\n",
    "y = df['loan_status'].astype(int)"
   ]
  },
  {
   "cell_type": "markdown",
   "metadata": {
    "colab_type": "text",
    "id": "CswngJGip9pR"
   },
   "source": [
    "Diving Dataset Into Training and Testing Data"
   ]
  },
  {
   "cell_type": "code",
   "execution_count": null,
   "metadata": {
    "colab": {
     "base_uri": "https://localhost:8080/",
     "height": 51
    },
    "colab_type": "code",
    "id": "gcwqZHDjaWE8",
    "outputId": "899bb2c0-8538-49b3-a41a-c4973f76dec3"
   },
   "outputs": [
    {
     "name": "stdout",
     "output_type": "stream",
     "text": [
      "(1042885, 75) (1042885,)\n",
      "(260722, 75) (260722,)\n"
     ]
    }
   ],
   "source": [
    "from sklearn import datasets, linear_model\n",
    "from sklearn.model_selection import train_test_split\n",
    "from sklearn.model_selection import cross_val_score\n",
    "X_train, X_test, y_train, y_test = train_test_split(X, y, test_size=0.2)\n",
    "print(X_train.shape, y_train.shape)\n",
    "print(X_test.shape, y_test.shape)"
   ]
  },
  {
   "cell_type": "markdown",
   "metadata": {
    "colab_type": "text",
    "id": "13Pf3qlUqEBL"
   },
   "source": [
    "Percentage of Total Variance in the Dataset Explained by Each Component From Sklearn PCA"
   ]
  },
  {
   "cell_type": "code",
   "execution_count": null,
   "metadata": {
    "colab": {
     "base_uri": "https://localhost:8080/",
     "height": 85
    },
    "colab_type": "code",
    "id": "rA8nQ7esaYW3",
    "outputId": "62f4f70f-6a40-4958-f9b8-722079d8d522"
   },
   "outputs": [
    {
     "name": "stdout",
     "output_type": "stream",
     "text": [
      "The percentage of total variance in the dataset explained by each component from Sklearn PCA.\n",
      " [9.91571431e-01 4.49039948e-03 3.93798884e-03 1.72097340e-07\n",
      " 4.72095693e-09 1.44017942e-09 9.56369952e-10 6.96680831e-10\n",
      " 5.51029655e-10 2.03074343e-10]\n"
     ]
    }
   ],
   "source": [
    "from sklearn.preprocessing import StandardScaler\n",
    "from sklearn.decomposition import PCA\n",
    "\n",
    "sklearn_pca = PCA(n_components=10)\n",
    "X = X.dropna(axis=1)\n",
    "y_sklearn = sklearn_pca.fit_transform(X_train)\n",
    "\n",
    "print(\n",
    "    'The percentage of total variance in the dataset explained by each',\n",
    "    'component from Sklearn PCA.\\n',\n",
    "    sklearn_pca.explained_variance_ratio_\n",
    ")"
   ]
  },
  {
   "cell_type": "code",
   "execution_count": null,
   "metadata": {
    "colab": {
     "base_uri": "https://localhost:8080/",
     "height": 51
    },
    "colab_type": "code",
    "id": "ZjSeo6fxadLq",
    "outputId": "501bac6d-e6ce-4d6c-e19c-5395a1e8b72c"
   },
   "outputs": [
    {
     "name": "stdout",
     "output_type": "stream",
     "text": [
      "tot_cur_bal\n",
      "0.9998119430614211\n"
     ]
    }
   ],
   "source": [
    "pc_components = pd.DataFrame(sklearn_pca.components_,columns=X.columns,index = ['PC-1','PC-2','PC-3',\n",
    "                                                            'PC-4','PC-5','PC-6',\n",
    "                                                             'PC-7','PC-8','PC-9','PC-10'])\n",
    "print(pc_components.loc[\"PC-1\"].idxmax())\n",
    "print(pc_components.loc[\"PC-1\"].max())"
   ]
  },
  {
   "cell_type": "markdown",
   "metadata": {
    "colab_type": "text",
    "id": "n0o8FaO3qVE3"
   },
   "source": [
    "First Model: - Linear Regression"
   ]
  },
  {
   "cell_type": "code",
   "execution_count": null,
   "metadata": {
    "colab": {
     "base_uri": "https://localhost:8080/",
     "height": 102
    },
    "colab_type": "code",
    "id": "crtJPX4zmsnk",
    "outputId": "88fe0493-55b1-4a52-9ab7-d938473e2ff2"
   },
   "outputs": [
    {
     "name": "stdout",
     "output_type": "stream",
     "text": [
      "Accuracy of linear regression classifier on test set: 0.56918\n",
      "[0.57036592 0.59581273 0.60487313 0.59106236 0.5805004  0.61969139\n",
      " 0.52262586 0.47530281 0.53358051 0.50487323]\n",
      "\n",
      "Mean cross validation score is: 0.5598688344346092\n"
     ]
    }
   ],
   "source": [
    "#Linear Regression\n",
    "X_train, X_test, y_train, y_test = train_test_split(X, y, test_size=0.2, random_state=0)\n",
    "from sklearn.linear_model import LinearRegression\n",
    "from sklearn import metrics\n",
    "linreg = LinearRegression()\n",
    "linreg.fit(X_train, y_train)\n",
    "\n",
    "print('Accuracy of linear regression classifier on test set: {:.5f}'.format(linreg.score(X_test, y_test)))\n",
    "\n",
    "linregscores = cross_val_score(linreg, X, y, cv=10)\n",
    "print(linregscores)\n",
    "print ('\\nMean cross validation score is: ' + str(np.mean(linregscores)))"
   ]
  },
  {
   "cell_type": "code",
   "execution_count": null,
   "metadata": {
    "colab": {},
    "colab_type": "code",
    "id": "uXq6ZbqXKGRC"
   },
   "outputs": [],
   "source": []
  },
  {
   "cell_type": "markdown",
   "metadata": {
    "colab_type": "text",
    "id": "YfAKVIDjqa_m"
   },
   "source": [
    "Second Model: - Logistic Regression"
   ]
  },
  {
   "cell_type": "code",
   "execution_count": null,
   "metadata": {
    "colab": {
     "base_uri": "https://localhost:8080/",
     "height": 102
    },
    "colab_type": "code",
    "id": "6gUB4XwQajVP",
    "outputId": "a0dc032f-cb16-4cea-ca2e-0ebab1e12a1f"
   },
   "outputs": [
    {
     "name": "stdout",
     "output_type": "stream",
     "text": [
      "Accuracy of logistic regression classifier on test set: 0.94476\n",
      "[0.95643636 0.91357078 0.91283436 0.95272359 0.94772209 0.93611586\n",
      " 0.96301808 0.92002148 0.92760816 0.92126419]\n",
      "\n",
      "Mean cross validation score is: 0.9351314955345789\n"
     ]
    }
   ],
   "source": [
    "#Logistic Regression\n",
    "X_train, X_test, y_train, y_test = train_test_split(X, y, test_size=0.2, random_state=0)\n",
    "from sklearn.linear_model import LogisticRegression\n",
    "from sklearn import metrics\n",
    "logreg = LogisticRegression()\n",
    "logreg.fit(X_train, y_train)\n",
    "\n",
    "print('Accuracy of logistic regression classifier on test set: {:.5f}'.format(logreg.score(X_test, y_test)))\n",
    "\n",
    "logregscores = cross_val_score(logreg, X, y, cv=10)\n",
    "print(logregscores)\n",
    "print ('\\nMean cross validation score is: ' + str(np.mean(logregscores)))"
   ]
  },
  {
   "cell_type": "markdown",
   "metadata": {
    "colab_type": "text",
    "id": "HhYZ6PBsqf_Y"
   },
   "source": [
    "Confusion Matrix For Training Dataset of Logistic Regression Model"
   ]
  },
  {
   "cell_type": "code",
   "execution_count": null,
   "metadata": {
    "colab": {
     "base_uri": "https://localhost:8080/",
     "height": 51
    },
    "colab_type": "code",
    "id": "UNwR66fmamCI",
    "outputId": "1c6ffd38-e411-41ef-c3b6-81d101621869"
   },
   "outputs": [
    {
     "data": {
      "text/plain": [
       "array([[819103,  14219],\n",
       "       [ 42137, 167426]])"
      ]
     },
     "execution_count": 44,
     "metadata": {
      "tags": []
     },
     "output_type": "execute_result"
    }
   ],
   "source": [
    "from sklearn.metrics import confusion_matrix\n",
    "#Confusion Matrix for train set.\n",
    "confusion_matrix(y_train,(logreg.predict(X_train)).round())"
   ]
  },
  {
   "cell_type": "markdown",
   "metadata": {
    "colab_type": "text",
    "id": "CNG6C_--qmXT"
   },
   "source": [
    "Confusion Matrix For Testing Dataset of Logistic Regression Model"
   ]
  },
  {
   "cell_type": "code",
   "execution_count": null,
   "metadata": {
    "colab": {
     "base_uri": "https://localhost:8080/",
     "height": 51
    },
    "colab_type": "code",
    "id": "HTbISWukc6Ws",
    "outputId": "371b8116-795a-4525-c24c-a34fa7111eaa"
   },
   "outputs": [
    {
     "data": {
      "text/plain": [
       "array([[204928,   3702],\n",
       "       [ 10700,  41392]])"
      ]
     },
     "execution_count": 45,
     "metadata": {
      "tags": []
     },
     "output_type": "execute_result"
    }
   ],
   "source": [
    "#Confusion Matrix for test set.\n",
    "confusion_matrix(y_test,(logreg.predict(X_test)).round())"
   ]
  },
  {
   "cell_type": "markdown",
   "metadata": {
    "colab_type": "text",
    "id": "Uym1UqOvqtTj"
   },
   "source": [
    "Third Model: - Random Forest Classifier"
   ]
  },
  {
   "cell_type": "code",
   "execution_count": null,
   "metadata": {
    "colab": {
     "base_uri": "https://localhost:8080/",
     "height": 102
    },
    "colab_type": "code",
    "id": "9-SgVJtyc9c7",
    "outputId": "b0ce384b-cacb-4366-8779-da2754c21688"
   },
   "outputs": [
    {
     "name": "stdout",
     "output_type": "stream",
     "text": [
      "Accuracy of Random Forest Classifier: 0.96076\n",
      "[0.98070742 0.961691   0.97042827 0.95652841 0.95511694 0.96353204\n",
      " 0.98332323 0.93057686 0.94569653 0.94838908]\n",
      "\n",
      "Mean cross validation score is: 0.959598978730198\n"
     ]
    }
   ],
   "source": [
    "#Random Forest \n",
    "from sklearn import ensemble\n",
    "from sklearn.model_selection import cross_val_score\n",
    "rfc = ensemble.RandomForestClassifier()\n",
    "rfc.fit(X_train, y_train)\n",
    "\n",
    "print('Accuracy of Random Forest Classifier: {:.5f}'.format(rfc.score(X_test, y_test)))\n",
    "\n",
    "cvScores = cross_val_score(rfc, X, y, cv=10) \n",
    "print(cvScores)\n",
    "print ('\\nMean cross validation score is: ' + str(np.mean(cvScores)))"
   ]
  },
  {
   "cell_type": "markdown",
   "metadata": {
    "colab_type": "text",
    "id": "W4y-9_iIqzmt"
   },
   "source": [
    "Confusion Matrix of Testing Dataset of Random Forest Classifier"
   ]
  },
  {
   "cell_type": "code",
   "execution_count": null,
   "metadata": {
    "colab": {
     "base_uri": "https://localhost:8080/",
     "height": 51
    },
    "colab_type": "code",
    "id": "bt7BEZH6dD_M",
    "outputId": "faa2f7cb-614c-4388-d77f-ce75f57c72ee"
   },
   "outputs": [
    {
     "data": {
      "text/plain": [
       "array([[208078,     87],\n",
       "       [ 10143,  42414]])"
      ]
     },
     "execution_count": 48,
     "metadata": {
      "tags": []
     },
     "output_type": "execute_result"
    }
   ],
   "source": [
    "from sklearn.metrics import confusion_matrix\n",
    "#Confusion Matrix for test set.\n",
    "confusion_matrix(y_test,(rfc.predict(X_test)).round())"
   ]
  },
  {
   "cell_type": "markdown",
   "metadata": {
    "colab_type": "text",
    "id": "mIiLp85vq8Z-"
   },
   "source": [
    "Top Ten Important Variables Based On Random Forest Classifier"
   ]
  },
  {
   "cell_type": "code",
   "execution_count": null,
   "metadata": {
    "colab": {
     "base_uri": "https://localhost:8080/",
     "height": 301
    },
    "colab_type": "code",
    "id": "e-vWBOXgDwGE",
    "outputId": "a19b4662-8c36-4153-bded-9f407ced8bd6"
   },
   "outputs": [
    {
     "data": {
      "image/png": "[encoded data removed]",
      "text/plain": [
       "<Figure size 432x288 with 1 Axes>"
      ]
     },
     "metadata": {
      "tags": []
     },
     "output_type": "display_data"
    }
   ],
   "source": [
    "feature_importance = rfc.feature_importances_\n",
    "\n",
    "#Make importances relative to max importance.\n",
    "feature_importance = 100 * (feature_importance / feature_importance.max())\n",
    "indices = np.argsort(feature_importance)[-10:]\n",
    "plt.barh(np.arange(10), feature_importance[indices],color='dodgerblue',alpha=.4)\n",
    "plt.yticks(np.arange(10), np.array(df.columns)[indices])\n",
    "_ = plt.xlabel('Relative importance'), plt.title('Top Ten Important Variables')"
   ]
  },
  {
   "cell_type": "markdown",
   "metadata": {
    "colab_type": "text",
    "id": "v6SUCMOTrEdI"
   },
   "source": [
    "Fourth Model: - Gradient Boosting Classifier"
   ]
  },
  {
   "cell_type": "code",
   "execution_count": null,
   "metadata": {
    "colab": {
     "base_uri": "https://localhost:8080/",
     "height": 102
    },
    "colab_type": "code",
    "id": "ZZf9CdmivgHy",
    "outputId": "3b3fb472-07c7-451e-e04c-7308e1166a5f"
   },
   "outputs": [
    {
     "name": "stdout",
     "output_type": "stream",
     "text": [
      "Accuracy of Gradient Boosting Classifier on Test: 0.95850\n",
      "[0.98117535 0.95845383 0.9707658  0.95146555 0.94700102 0.95849986\n",
      " 0.98610781 0.93027002 0.93557073 0.94637159]\n",
      "\n",
      "Mean cross validation score is: 0.9565681547489933\n"
     ]
    }
   ],
   "source": [
    "#Gradient Boosting Classifier\n",
    "from sklearn.ensemble import GradientBoostingClassifier\n",
    "from sklearn.model_selection import GridSearchCV\n",
    "from sklearn import ensemble\n",
    "\n",
    "param_grid = {'n_estimators': 100,\n",
    "         'max_depth':3,\n",
    "         'loss': 'deviance',\n",
    "         'subsample': 0.8,\n",
    "         'max_features': 'auto',\n",
    "         'learning_rate':0.05,\n",
    "         'min_samples_leaf':3}\n",
    "\n",
    "clf = ensemble.GradientBoostingClassifier(**param_grid, random_state=0)\n",
    "clf.fit(X_train, y_train)\n",
    "\n",
    "print('Accuracy of Gradient Boosting Classifier on Test: {:.5f}'.format(clf.score(X_test, y_test)))\n",
    "\n",
    "clf_scores = cross_val_score(clf, X, y, cv=10)\n",
    "print(clf_scores)\n",
    "print ('\\nMean cross validation score is: ' + str(np.mean(clf_scores)))"
   ]
  },
  {
   "cell_type": "markdown",
   "metadata": {
    "colab_type": "text",
    "id": "GNV1zhmfrJTC"
   },
   "source": [
    "Confusion Matrix For Training Dataset Of Gradient Boosting Classifier"
   ]
  },
  {
   "cell_type": "code",
   "execution_count": null,
   "metadata": {
    "colab": {
     "base_uri": "https://localhost:8080/",
     "height": 51
    },
    "colab_type": "code",
    "id": "4OseIVxhmN0v",
    "outputId": "60c7dc0e-2c94-4cc9-bcd0-8a0eb311373f"
   },
   "outputs": [
    {
     "data": {
      "text/plain": [
       "array([[833399,    388],\n",
       "       [ 42841, 166257]])"
      ]
     },
     "execution_count": 52,
     "metadata": {
      "tags": []
     },
     "output_type": "execute_result"
    }
   ],
   "source": [
    "from sklearn.metrics import confusion_matrix\n",
    "#Confusion Matrix for train set.\n",
    "confusion_matrix(y_train,(clf.predict(X_train)).round())"
   ]
  },
  {
   "cell_type": "markdown",
   "metadata": {
    "colab_type": "text",
    "id": "_hX1C7FjrPh-"
   },
   "source": [
    "Fifth Model: - Naive Bayes Classifier"
   ]
  },
  {
   "cell_type": "code",
   "execution_count": null,
   "metadata": {
    "colab": {
     "base_uri": "https://localhost:8080/",
     "height": 102
    },
    "colab_type": "code",
    "id": "3lmT0PfnmO0L",
    "outputId": "1cee0988-a1ad-4c7d-d457-eb54b911b753"
   },
   "outputs": [
    {
     "name": "stdout",
     "output_type": "stream",
     "text": [
      "Accuracy of Bernoulli classifier: 0.80055\n",
      "[0.77593759 0.78327874 0.7910418  0.79806077 0.79382637 0.76480696\n",
      " 0.74682612 0.78873121 0.7837757  0.784305  ]\n",
      "\n",
      "Mean cross validation score is: 0.7810590259448037\n"
     ]
    }
   ],
   "source": [
    "#Naive Bayes Classifier\n",
    "from sklearn.naive_bayes import GaussianNB\n",
    "from sklearn.metrics import accuracy_score\n",
    "from sklearn.model_selection import train_test_split\n",
    "X_train, X_test, y_train, y_test = train_test_split(X, y, test_size=0.2)\n",
    "\n",
    "from sklearn.preprocessing import StandardScaler\n",
    "from sklearn.naive_bayes import BernoulliNB\n",
    "sc = StandardScaler()\n",
    "X_train = sc.fit_transform(X_train)\n",
    "X_test = sc.transform(X_test)\n",
    "    \n",
    "#Testing Naive Bayes Classifier\n",
    "BNB = BernoulliNB()\n",
    "BNB.fit(X_train, y_train)\n",
    "    \n",
    "y_pred = BNB.predict(X_test)\n",
    "\n",
    "print('Accuracy of Bernoulli classifier: {:.5f}'.format(BNB.score(X_test, y_test)))\n",
    "\n",
    "BNB_scores = cross_val_score(BNB, X, y, cv=10)\n",
    "print(BNB_scores)\n",
    "print ('\\nMean cross validation score is: ' + str(np.mean(BNB_scores)))"
   ]
  },
  {
   "cell_type": "code",
   "execution_count": null,
   "metadata": {
    "colab": {},
    "colab_type": "code",
    "id": "o2yB1DwemOyX"
   },
   "outputs": [],
   "source": []
  },
  {
   "cell_type": "code",
   "execution_count": null,
   "metadata": {
    "colab": {},
    "colab_type": "code",
    "id": "uGtVYnM_mOw3"
   },
   "outputs": [],
   "source": []
  },
  {
   "cell_type": "code",
   "execution_count": null,
   "metadata": {
    "colab": {},
    "colab_type": "code",
    "id": "YKapgdX5mOsv"
   },
   "outputs": [],
   "source": []
  },
  {
   "cell_type": "code",
   "execution_count": null,
   "metadata": {
    "colab": {},
    "colab_type": "code",
    "id": "SN8t_3XJmOqm"
   },
   "outputs": [],
   "source": []
  },
  {
   "cell_type": "code",
   "execution_count": null,
   "metadata": {
    "colab": {},
    "colab_type": "code",
    "id": "wn8v7SlgmOnj"
   },
   "outputs": [],
   "source": []
  },
  {
   "cell_type": "code",
   "execution_count": null,
   "metadata": {
    "colab": {},
    "colab_type": "code",
    "id": "xQPMocVMmOkL"
   },
   "outputs": [],
   "source": []
  },
  {
   "cell_type": "code",
   "execution_count": null,
   "metadata": {
    "colab": {},
    "colab_type": "code",
    "id": "kiAsyOxQmOWo"
   },
   "outputs": [],
   "source": []
  }
 ],
 "metadata": {
  "accelerator": "GPU",
  "colab": {
   "collapsed_sections": [],
   "machine_shape": "hm",
   "name": "Lending Club Machine Learning Models.ipynb",
   "provenance": []
  },
  "kernelspec": {
   "display_name": "Python 3",
   "language": "python",
   "name": "python3"
  },
  "language_info": {
   "codemirror_mode": {
    "name": "ipython",
    "version": 3
   },
   "file_extension": ".py",
   "mimetype": "text/x-python",
   "name": "python",
   "nbconvert_exporter": "python",
   "pygments_lexer": "ipython3",
   "version": "3.7.4"
  }
 },
 "nbformat": 4,
 "nbformat_minor": 4
}
